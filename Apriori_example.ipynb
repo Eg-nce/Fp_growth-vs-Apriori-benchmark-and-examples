{
 "cells": [
  {
   "cell_type": "code",
   "execution_count": 1,
   "metadata": {},
   "outputs": [],
   "source": [
    "import sys\n",
    "import pandas as pd\n",
    "import os\n",
    "import time \n",
    "sys.path.append('/home/ege/Documents/python/data')"
   ]
  },
  {
   "cell_type": "code",
   "execution_count": 2,
   "metadata": {},
   "outputs": [],
   "source": [
    "from __future__ import absolute_import\n",
    "from apriori import apriori"
   ]
  },
  {
   "cell_type": "code",
   "execution_count": 3,
   "metadata": {},
   "outputs": [],
   "source": [
    "data  = pd.read_csv(\"/home/ege/Documents/python/data/sepet.csv\")"
   ]
  },
  {
   "cell_type": "code",
   "execution_count": 5,
   "metadata": {},
   "outputs": [
    {
     "name": "stdout",
     "output_type": "stream",
     "text": [
      "Frequency_list :   [[('burgers',), 'frequency ===> %8.72'], [('eggs',), 'frequency ===> %17.97'], [('mineral water',), 'frequency ===> %23.83'], [('milk',), 'frequency ===> %12.96'], [('green tea',), 'frequency ===> %13.20'], [('french fries',), 'frequency ===> %17.09'], [('frozen vegetables',), 'frequency ===> %9.53'], [('spaghetti',), 'frequency ===> %17.41'], [('cookies',), 'frequency ===> %8.04'], [('chocolate',), 'frequency ===> %16.40'], [('pancakes',), 'frequency ===> %9.51'], [('ground beef',), 'frequency ===> %9.83'], [('cake',), 'frequency ===> %8.11']] \n",
      "\n",
      "************\n",
      " Confidence_list :  [] \n",
      "\n"
     ]
    }
   ],
   "source": [
    "if __name__ == \"__main__\":\n",
    "    Ap = apriori(data,8,10) \n",
    "    Frequency_list ,Confidence_list  = Ap.Miner()\n",
    "    print(\"Frequency_list :  \" , Frequency_list , \"\\n\")\n",
    "    print(\"************\")\n",
    "    print(\" Confidence_list : \" ,Confidence_list , \"\\n\")\n",
    "    "
   ]
  }
 ],
 "metadata": {
  "kernelspec": {
   "display_name": "Python 3",
   "language": "python",
   "name": "python3"
  },
  "language_info": {
   "codemirror_mode": {
    "name": "ipython",
    "version": 3
   },
   "file_extension": ".py",
   "mimetype": "text/x-python",
   "name": "python",
   "nbconvert_exporter": "python",
   "pygments_lexer": "ipython3",
   "version": "3.8.3"
  }
 },
 "nbformat": 4,
 "nbformat_minor": 4
}
