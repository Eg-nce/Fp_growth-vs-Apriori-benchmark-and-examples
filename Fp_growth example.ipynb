{
 "cells": [
  {
   "cell_type": "code",
   "execution_count": 1,
   "metadata": {},
   "outputs": [],
   "source": [
    "import sys\n",
    "import pandas as pd\n",
    "import os\n",
    "import time \n",
    "sys.path.append('/home/ege/Documents/python/data')"
   ]
  },
  {
   "cell_type": "code",
   "execution_count": 5,
   "metadata": {},
   "outputs": [],
   "source": [
    "from __future__ import absolute_import\n",
    "from fp import Fp_Growth"
   ]
  },
  {
   "cell_type": "code",
   "execution_count": 6,
   "metadata": {},
   "outputs": [],
   "source": [
    "data  = pd.read_csv(\"/home/ege/Documents/python/data/sepet.csv\")"
   ]
  },
  {
   "cell_type": "code",
   "execution_count": 8,
   "metadata": {},
   "outputs": [
    {
     "name": "stdout",
     "output_type": "stream",
     "text": [
      "Frequency_list :   ([['mineral water'], '======>', '% 23.826666666666668 '], [['eggs'], '======>', '% 17.973333333333333 '], [['spaghetti'], '======>', '% 17.413333333333334 '], [['french fries'], '======>', '% 17.093333333333334 '], [['chocolate'], '======>', '% 16.4 '], [['green tea'], '======>', '% 13.2 '], [['milk'], '======>', '% 12.96 '], [['ground beef'], '======>', '% 9.826666666666666 '], [['frozen vegetables'], '======>', '% 9.533333333333333 '], [['pancakes'], '======>', '% 9.506666666666666 '], [['burgers'], '======>', '% 8.72 '], [['cake'], '======>', '% 8.106666666666667 '], [['cookies'], '======>', '% 8.04 ']) \n",
      "\n",
      "************\n",
      " Confidence_list :  [] \n",
      "\n"
     ]
    }
   ],
   "source": [
    "if __name__ == \"__main__\":\n",
    "    Fp = Fp_Growth(data,8,10) \n",
    "    Frequency_list ,Confidence_list  = Fp.Pickaxe()\n",
    "    print(\"Frequency_list :  \" , Frequency_list , \"\\n\")\n",
    "    print(\"************\")\n",
    "    print(\" Confidence_list : \" ,Confidence_list , \"\\n\")\n",
    "    "
   ]
  }
 ],
 "metadata": {
  "kernelspec": {
   "display_name": "Python 3",
   "language": "python",
   "name": "python3"
  },
  "language_info": {
   "codemirror_mode": {
    "name": "ipython",
    "version": 3
   },
   "file_extension": ".py",
   "mimetype": "text/x-python",
   "name": "python",
   "nbconvert_exporter": "python",
   "pygments_lexer": "ipython3",
   "version": "3.8.3"
  }
 },
 "nbformat": 4,
 "nbformat_minor": 4
}
