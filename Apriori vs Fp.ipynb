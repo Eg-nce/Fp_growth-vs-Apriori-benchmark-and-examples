{
 "cells": [
  {
   "cell_type": "code",
   "execution_count": 1,
   "metadata": {},
   "outputs": [],
   "source": [
    "import sys\n",
    "import pandas as pd\n",
    "import os\n",
    "import time \n",
    "\n",
    "\n",
    "sys.path.append(r'/home/ege/Documents/python/data')"
   ]
  },
  {
   "cell_type": "code",
   "execution_count": 2,
   "metadata": {},
   "outputs": [],
   "source": [
    "from __future__ import absolute_import\n",
    "from apriori import apriori\n",
    "from fp import Fp_Growth"
   ]
  },
  {
   "cell_type": "markdown",
   "metadata": {},
   "source": [
    "# Defining benchmark functions#"
   ]
  },
  {
   "cell_type": "code",
   "execution_count": 3,
   "metadata": {},
   "outputs": [],
   "source": [
    "def apriori_timer(data,**kwargs):\n",
    "    t0 = time.time()\n",
    "    Ap_time = []\n",
    "    for x , y in kwargs.items():\n",
    "        Ap = apriori(data, y[0] , y[1] )\n",
    "        Frequency_list ,Confidence_list  = Ap.Miner()\n",
    "        t1 = time.time()\n",
    "        Per_iter_time = t1-t0\n",
    "        Ap_time.append(Per_iter_time)\n",
    "    return Ap_time     "
   ]
  },
  {
   "cell_type": "code",
   "execution_count": 4,
   "metadata": {},
   "outputs": [],
   "source": [
    "def Fp_timer(data , **kwargs):\n",
    "    t0 = time.time()\n",
    "    Fp_time = []\n",
    "    for x ,y in kwargs.items():\n",
    "        Fp = Fp_Growth(data, y[0] , y[1])\n",
    "        Frequency_list ,Confidence_list  = Fp.Pickaxe()\n",
    "        t1 = time.time()\n",
    "        Per_iter_time = t1-t0\n",
    "        Fp_time.append(Per_iter_time)\n",
    "    return Fp_time"
   ]
  },
  {
   "cell_type": "markdown",
   "metadata": {},
   "source": [
    "# Importing the data"
   ]
  },
  {
   "cell_type": "code",
   "execution_count": 5,
   "metadata": {},
   "outputs": [],
   "source": [
    "data =  pd.read_csv(\"/home/ege/Documents/python/data/sepet.csv\")"
   ]
  },
  {
   "cell_type": "markdown",
   "metadata": {},
   "source": [
    "# Benchmarking"
   ]
  },
  {
   "cell_type": "code",
   "execution_count": 9,
   "metadata": {},
   "outputs": [],
   "source": [
    "Ap_time = apriori_timer(data, case1 = [20,20] , case2 = [15,10] , case3 = [10,5] ,case4 = [7,5])"
   ]
  },
  {
   "cell_type": "code",
   "execution_count": 10,
   "metadata": {},
   "outputs": [],
   "source": [
    "Fp_time = Fp_timer(data, case1 = [20,20] , case2 = [15,10] , case3 = [10,5] , case4 = [7,5])"
   ]
  },
  {
   "cell_type": "code",
   "execution_count": 45,
   "metadata": {},
   "outputs": [],
   "source": [
    "import seaborn as sns\n",
    "import matplotlib.pyplot as plt\n",
    "import numpy as np"
   ]
  },
  {
   "cell_type": "code",
   "execution_count": 22,
   "metadata": {},
   "outputs": [],
   "source": [
    "df_ap = pd.DataFrame(data = Ap_time, columns = [\"Ap times\"])\n",
    "df_fp = pd.DataFrame( data = Fp_time , columns = [\"Fp times\"])\n",
    "df_main = pd.concat([df_ap , df_fp] , axis = 1)"
   ]
  },
  {
   "cell_type": "code",
   "execution_count": 27,
   "metadata": {},
   "outputs": [
    {
     "data": {
      "text/html": [
       "<div>\n",
       "<style scoped>\n",
       "    .dataframe tbody tr th:only-of-type {\n",
       "        vertical-align: middle;\n",
       "    }\n",
       "\n",
       "    .dataframe tbody tr th {\n",
       "        vertical-align: top;\n",
       "    }\n",
       "\n",
       "    .dataframe thead th {\n",
       "        text-align: right;\n",
       "    }\n",
       "</style>\n",
       "<table border=\"1\" class=\"dataframe\">\n",
       "  <thead>\n",
       "    <tr style=\"text-align: right;\">\n",
       "      <th></th>\n",
       "      <th>Ap times</th>\n",
       "      <th>Fp times</th>\n",
       "    </tr>\n",
       "  </thead>\n",
       "  <tbody>\n",
       "    <tr>\n",
       "      <th>0</th>\n",
       "      <td>0.430237</td>\n",
       "      <td>0.079633</td>\n",
       "    </tr>\n",
       "    <tr>\n",
       "      <th>1</th>\n",
       "      <td>1.153148</td>\n",
       "      <td>0.177950</td>\n",
       "    </tr>\n",
       "    <tr>\n",
       "      <th>2</th>\n",
       "      <td>3.043649</td>\n",
       "      <td>0.295270</td>\n",
       "    </tr>\n",
       "    <tr>\n",
       "      <th>3</th>\n",
       "      <td>954.947995</td>\n",
       "      <td>0.645460</td>\n",
       "    </tr>\n",
       "  </tbody>\n",
       "</table>\n",
       "</div>"
      ],
      "text/plain": [
       "     Ap times  Fp times\n",
       "0    0.430237  0.079633\n",
       "1    1.153148  0.177950\n",
       "2    3.043649  0.295270\n",
       "3  954.947995  0.645460"
      ]
     },
     "execution_count": 27,
     "metadata": {},
     "output_type": "execute_result"
    }
   ],
   "source": [
    "df_main.head()"
   ]
  },
  {
   "cell_type": "code",
   "execution_count": 86,
   "metadata": {},
   "outputs": [],
   "source": [
    "columns = [\"Apriori \",\"Fp Growth\"]"
   ]
  },
  {
   "cell_type": "code",
   "execution_count": 87,
   "metadata": {},
   "outputs": [
    {
     "name": "stderr",
     "output_type": "stream",
     "text": [
      "<ipython-input-87-ab4cde5d7001>:5: MatplotlibDeprecationWarning: Using a string of single character colors as a color sequence is deprecated. Use an explicit list instead.\n",
      "  plt.barh( columns, df_main.iloc[0].values, color ='rg'\n"
     ]
    },
    {
     "data": {
      "image/png": "[encoded data removed]",
      "text/plain": [
       "<Figure size 864x360 with 1 Axes>"
      ]
     },
     "metadata": {
      "needs_background": "light"
     },
     "output_type": "display_data"
    }
   ],
   "source": [
    "fig , ax = plt.subplots(figsize = (12,5))\n",
    "for i, v in enumerate( df_main.iloc[0].values):\n",
    "  ax.text(v, i, \" \"+str(\"%.4f\" % v) + \" second\", color='black', va='center', fontweight='bold',fontsize = 14)\n",
    "\n",
    "plt.barh( columns, df_main.iloc[0].values, color ='rg'  \n",
    "        ) \n",
    "\n",
    "\n",
    "plt.title(\"case1 : %20 minsup rate and %20 confidence rate\" , fontsize = 16) \n",
    "plt.show()  "
   ]
  },
  {
   "cell_type": "code",
   "execution_count": 88,
   "metadata": {},
   "outputs": [
    {
     "name": "stderr",
     "output_type": "stream",
     "text": [
      "<ipython-input-88-31e67ca37a95>:5: MatplotlibDeprecationWarning: Using a string of single character colors as a color sequence is deprecated. Use an explicit list instead.\n",
      "  plt.barh( columns, df_main.iloc[1].values, color ='rg'  )\n"
     ]
    },
    {
     "data": {
      "image/png": "[encoded data removed]",
      "text/plain": [
       "<Figure size 864x360 with 1 Axes>"
      ]
     },
     "metadata": {
      "needs_background": "light"
     },
     "output_type": "display_data"
    }
   ],
   "source": [
    "fig , ax = plt.subplots(figsize = (12,5))\n",
    "for i, v in enumerate( df_main.iloc[1].values):\n",
    "  ax.text(v, i, \" \"+str(\"%.4f\" % v) + \" second\", color='black', va='center', fontweight='bold',fontsize = 14)\n",
    "\n",
    "plt.barh( columns, df_main.iloc[1].values, color ='rg'  ) \n",
    "\n",
    "\n",
    "plt.title(\"case2: %15 minsup rate and %10 confidence rate\" , fontsize = 16 )\n",
    "plt.show() "
   ]
  },
  {
   "cell_type": "code",
   "execution_count": 89,
   "metadata": {},
   "outputs": [
    {
     "name": "stderr",
     "output_type": "stream",
     "text": [
      "<ipython-input-89-751b395c6f5c>:5: MatplotlibDeprecationWarning: Using a string of single character colors as a color sequence is deprecated. Use an explicit list instead.\n",
      "  plt.barh( columns, df_main.iloc[2].values, color ='rg'\n"
     ]
    },
    {
     "data": {
      "image/png": "[encoded data removed]",
      "text/plain": [
       "<Figure size 864x360 with 1 Axes>"
      ]
     },
     "metadata": {
      "needs_background": "light"
     },
     "output_type": "display_data"
    }
   ],
   "source": [
    "fig , ax = plt.subplots(figsize = (12,5))\n",
    "for i, v in enumerate( df_main.iloc[2].values):\n",
    "  ax.text(v, i, \" \"+str(\"%.4f\" % v) + \" second\", color='black', va='center', fontweight='bold',fontsize = 14)\n",
    "\n",
    "plt.barh( columns, df_main.iloc[2].values, color ='rg'  \n",
    "        ) \n",
    "\n",
    "\n",
    "plt.title(\"case3 : %10 minsup rate and %5 confidence rate\" , fontsize = 16) \n",
    "plt.show() "
   ]
  },
  {
   "cell_type": "code",
   "execution_count": 90,
   "metadata": {},
   "outputs": [
    {
     "name": "stderr",
     "output_type": "stream",
     "text": [
      "<ipython-input-90-9a87eeceeaa6>:5: MatplotlibDeprecationWarning: Using a string of single character colors as a color sequence is deprecated. Use an explicit list instead.\n",
      "  plt.barh( columns, df_main.iloc[3].values, color ='rg'\n"
     ]
    },
    {
     "data": {
      "image/png": "[encoded data removed]",
      "text/plain": [
       "<Figure size 864x360 with 1 Axes>"
      ]
     },
     "metadata": {
      "needs_background": "light"
     },
     "output_type": "display_data"
    }
   ],
   "source": [
    "fig , ax = plt.subplots(figsize = (12,5))\n",
    "for i, v in enumerate( df_main.iloc[3].values):\n",
    "  ax.text(v, i, \" \"+str(\"%.4f\" % v) + \" second\", color='black', va='center', fontweight='bold',fontsize = 14)\n",
    "\n",
    "plt.barh( columns, df_main.iloc[3].values, color ='rg'  \n",
    "        ) \n",
    "\n",
    "\n",
    "plt.title(\"case4 : %7 minsup rate and %5 confidence rate\" , fontsize = 16) \n",
    "plt.show() "
   ]
  }
 ],
 "metadata": {
  "kernelspec": {
   "display_name": "Python 3",
   "language": "python",
   "name": "python3"
  },
  "language_info": {
   "codemirror_mode": {
    "name": "ipython",
    "version": 3
   },
   "file_extension": ".py",
   "mimetype": "text/x-python",
   "name": "python",
   "nbconvert_exporter": "python",
   "pygments_lexer": "ipython3",
   "version": "3.8.3"
  }
 },
 "nbformat": 4,
 "nbformat_minor": 4
}
